{
  "nbformat": 4,
  "nbformat_minor": 0,
  "metadata": {
    "colab": {
      "provenance": [],
      "authorship_tag": "ABX9TyM1vKkXdp5/3uGjDRSAeUHm",
      "include_colab_link": true
    },
    "kernelspec": {
      "name": "python3",
      "display_name": "Python 3"
    },
    "language_info": {
      "name": "python"
    }
  },
  "cells": [
    {
      "cell_type": "markdown",
      "metadata": {
        "id": "view-in-github",
        "colab_type": "text"
      },
      "source": [
        "<a href=\"https://colab.research.google.com/github/ZiyueLiu-zl3472/hw1/blob/main/getBondDuration.ipynb\" target=\"_parent\"><img src=\"https://colab.research.google.com/assets/colab-badge.svg\" alt=\"Open In Colab\"/></a>"
      ]
    },
    {
      "cell_type": "code",
      "execution_count": 6,
      "metadata": {
        "colab": {
          "base_uri": "https://localhost:8080/"
        },
        "id": "-o4IELdpaclx",
        "outputId": "270b1b64-71d1-4465-df14-e57ec94c36dd"
      },
      "outputs": [
        {
          "output_type": "stream",
          "name": "stdout",
          "text": [
            "1 0.970873786407767\n",
            "1 0.9425959091337544\n",
            "1 0.9151416593531596\n",
            "1 0.888487047915689\n",
            "1 0.8626087843841641\n",
            "1 0.8374842566836544\n",
            "1 0.8130915113433539\n",
            "1 0.7894092343139358\n",
            "1 0.7664167323436271\n",
            "1 0.7440939148967253\n"
          ]
        },
        {
          "output_type": "execute_result",
          "data": {
            "text/plain": [
              "8.508690304459575"
            ]
          },
          "metadata": {},
          "execution_count": 6
        }
      ],
      "source": [
        "def getBondDuration(y, face, couponRate, m, ppy=1):\n",
        "  df0=1/(1+y/ppy)\n",
        "  df=1\n",
        "  sumPVCF=0\n",
        "  sumW=0\n",
        "  cpn=couponRate*face/ppy\n",
        "  for i in range (1,m+1):\n",
        "    df*=df0\n",
        "    pvcf=cpn*df\n",
        "    w=pvcf*i\n",
        "    sumPVCF+=pvcf\n",
        "    sumW+=w\n",
        "    print(1,df)\n",
        "\n",
        "  sumPVCF+=face*df\n",
        "  sumW+=face*df*m\n",
        "  BondDuration=sumW/sumPVCF\n",
        "\n",
        "  return(BondDuration)\n",
        "\n",
        "# Test values\n",
        "\n",
        "y = 0.03\n",
        "face = 2000000\n",
        "couponRate = 0.04\n",
        "m = 10\n",
        "ppy = 1\n",
        "\n",
        "getBondDuration(y, face, couponRate, m, ppy)"
      ]
    }
  ]
}