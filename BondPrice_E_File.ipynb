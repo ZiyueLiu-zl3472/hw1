{
  "nbformat": 4,
  "nbformat_minor": 0,
  "metadata": {
    "colab": {
      "provenance": [],
      "authorship_tag": "ABX9TyNsCd8JAIUgqhvSpuwC3H2Z",
      "include_colab_link": true
    },
    "kernelspec": {
      "name": "python3",
      "display_name": "Python 3"
    },
    "language_info": {
      "name": "python"
    }
  },
  "cells": [
    {
      "cell_type": "markdown",
      "metadata": {
        "id": "view-in-github",
        "colab_type": "text"
      },
      "source": [
        "<a href=\"https://colab.research.google.com/github/ZiyueLiu-zl3472/hw1/blob/main/BondPrice_E_File.ipynb\" target=\"_parent\"><img src=\"https://colab.research.google.com/assets/colab-badge.svg\" alt=\"Open In Colab\"/></a>"
      ]
    },
    {
      "cell_type": "code",
      "execution_count": 3,
      "metadata": {
        "colab": {
          "base_uri": "https://localhost:8080/"
        },
        "id": "RAnB7cPInNKl",
        "outputId": "3c31601d-8dd6-4788-b8fd-2406190b6e83"
      },
      "outputs": [
        {
          "output_type": "execute_result",
          "data": {
            "text/plain": [
              "2098948.9705506554"
            ]
          },
          "metadata": {},
          "execution_count": 3
        }
      ],
      "source": [
        "def getBondPrice_E(face, couponRate, m, yc):\n",
        "    bondPrice = 0\n",
        "    df = 1\n",
        "    c = face * couponRate\n",
        "    bondPrice = sum(c / (1 + rate) ** (i + 1) for i, rate in enumerate (yc))\n",
        "    bondPrice += face / (1 + yc[-1]) ** m\n",
        "\n",
        "    return(bondPrice)\n",
        "\n",
        "# Test values\n",
        "\n",
        "yc = [.010, .015, .020, .025, .030]\n",
        "face = 2000000\n",
        "couponRate = 0.04\n",
        "m=5\n",
        "\n",
        "getBondPrice_E(face, couponRate, m, yc)\n"
      ]
    }
  ]
}