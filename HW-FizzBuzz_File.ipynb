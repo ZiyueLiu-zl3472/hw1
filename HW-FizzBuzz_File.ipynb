{
  "nbformat": 4,
  "nbformat_minor": 0,
  "metadata": {
    "colab": {
      "provenance": [],
      "authorship_tag": "ABX9TyO638voQp7YF8g75T+HaNDG",
      "include_colab_link": true
    },
    "kernelspec": {
      "name": "python3",
      "display_name": "Python 3"
    },
    "language_info": {
      "name": "python"
    }
  },
  "cells": [
    {
      "cell_type": "markdown",
      "metadata": {
        "id": "view-in-github",
        "colab_type": "text"
      },
      "source": [
        "<a href=\"https://colab.research.google.com/github/ZiyueLiu-zl3472/hw1/blob/main/FizzBuzz_File.ipynb\" target=\"_parent\"><img src=\"https://colab.research.google.com/assets/colab-badge.svg\" alt=\"Open In Colab\"/></a>"
      ]
    },
    {
      "cell_type": "code",
      "execution_count": 1,
      "metadata": {
        "colab": {
          "base_uri": "https://localhost:8080/"
        },
        "id": "Bv4RNVv3n7Kd",
        "outputId": "892bbc41-415b-4e9b-dab7-eab35f42855c"
      },
      "outputs": [
        {
          "output_type": "stream",
          "name": "stdout",
          "text": [
            "[1, 2, 'fizz', 4, 'buzz', 'fizz', 7, 8, 'fizz', 'buzz', 11, 'fizz', 13, 14, 'fizzbuzz']\n"
          ]
        }
      ],
      "source": [
        "def FizzBuzz(start, finish):\n",
        "    outlist = []\n",
        "    for i in range(start,finish+1):\n",
        "      if i%3==0 and i%5==0:\n",
        "        outlist.append(\"fizzbuzz\")\n",
        "      elif i%5==0:\n",
        "        outlist.append(\"buzz\")\n",
        "      elif i%3==0:\n",
        "        outlist.append(\"fizz\")\n",
        "      else:\n",
        "        outlist.append(i)\n",
        "      start+=1\n",
        "    return(outlist)\n",
        "\n",
        "print(FizzBuzz(1,15))\n"
      ]
    }
  ]
}
