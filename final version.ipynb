{
  "nbformat": 4,
  "nbformat_minor": 0,
  "metadata": {
    "colab": {
      "provenance": [],
      "authorship_tag": "ABX9TyOmCcSBcbXjJnR7/tpF5TgX",
      "include_colab_link": true
    },
    "kernelspec": {
      "name": "python3",
      "display_name": "Python 3"
    },
    "language_info": {
      "name": "python"
    }
  },
  "cells": [
    {
      "cell_type": "markdown",
      "metadata": {
        "id": "view-in-github",
        "colab_type": "text"
      },
      "source": [
        "<a href=\"https://colab.research.google.com/github/ZiyueLiu-zl3472/hw1/blob/main/final%20version.ipynb\" target=\"_parent\"><img src=\"https://colab.research.google.com/assets/colab-badge.svg\" alt=\"Open In Colab\"/></a>"
      ]
    },
    {
      "cell_type": "code",
      "execution_count": null,
      "metadata": {
        "id": "lmtIJD4nur48"
      },
      "outputs": [],
      "source": [
        "#1. WhoAmI\n",
        "def WhoamI():\n",
        "  return('zl3472')"
      ]
    },
    {
      "cell_type": "code",
      "source": [
        "#2. getBondPrice\n",
        "def getBondPrice(y, face, couponRate, m, ppy=1):\n",
        "    df0=1/(1+y/ppy)\n",
        "    dcf=0\n",
        "    df=1\n",
        "    cpn=couponRate*face/ppy\n",
        "    for i in range (1,m*ppy+1):\n",
        "      df*=df0\n",
        "      dcf+=df*cpn\n",
        "\n",
        "    BondPrice=dcf+face*df\n",
        "\n",
        "    return(BondPrice)\n",
        "\n",
        "# Test values\n",
        "\n",
        "y = 0.03\n",
        "face = 2000000\n",
        "couponRate = 0.04\n",
        "m = 10\n",
        "ppy = 1\n",
        "ppy = 2\n",
        "#<no ppy value passed>\n",
        "\n",
        "bond_price_ppy1 = getBondPrice(y, face, couponRate, m, ppy=1)\n",
        "bond_price_ppy2 = getBondPrice(y, face, couponRate, m, ppy=2)\n",
        "\n",
        "print(bond_price_ppy1)\n",
        "print(bond_price_ppy2)\n"
      ],
      "metadata": {
        "colab": {
          "base_uri": "https://localhost:8080/"
        },
        "id": "HZ_DBpFMKYbr",
        "outputId": "8ca95332-a429-4902-b84d-536905efc594"
      },
      "execution_count": 5,
      "outputs": [
        {
          "output_type": "stream",
          "name": "stdout",
          "text": [
            "2170604.056735517\n",
            "2171686.3878508243\n"
          ]
        }
      ]
    },
    {
      "cell_type": "code",
      "source": [
        "#3. getBondDuration\n",
        "def getBondDuration(y, face, couponRate, m, ppy=1):\n",
        "  df0=1/(1+y/ppy)\n",
        "  df=1\n",
        "  sumPVCF=0\n",
        "  sumW=0\n",
        "  cpn=couponRate*face/ppy\n",
        "  for i in range (1,m+1):\n",
        "    df*=df0\n",
        "    pvcf=cpn*df\n",
        "    w=pvcf*i\n",
        "    sumPVCF+=pvcf\n",
        "    sumW+=w\n",
        "    print(1,df)\n",
        "\n",
        "  sumPVCF+=face*df\n",
        "  sumW+=face*df*m\n",
        "  BondDuration=sumW/sumPVCF\n",
        "\n",
        "  return(BondDuration)\n",
        "\n",
        "# Test values\n",
        "\n",
        "y = 0.03\n",
        "face = 2000000\n",
        "couponRate = 0.04\n",
        "m = 10\n",
        "ppy = 1\n",
        "\n",
        "getBondDuration(y, face, couponRate, m, ppy)"
      ],
      "metadata": {
        "colab": {
          "base_uri": "https://localhost:8080/"
        },
        "id": "yurReLKtKYZQ",
        "outputId": "28c61ac7-cd2b-49bd-f09d-f7be6bc4723e"
      },
      "execution_count": null,
      "outputs": [
        {
          "output_type": "stream",
          "name": "stdout",
          "text": [
            "1 0.970873786407767\n",
            "1 0.9425959091337544\n",
            "1 0.9151416593531596\n",
            "1 0.888487047915689\n",
            "1 0.8626087843841641\n",
            "1 0.8374842566836544\n",
            "1 0.8130915113433539\n",
            "1 0.7894092343139358\n",
            "1 0.7664167323436271\n",
            "1 0.7440939148967253\n"
          ]
        },
        {
          "output_type": "execute_result",
          "data": {
            "text/plain": [
              "8.508690304459575"
            ]
          },
          "metadata": {},
          "execution_count": 3
        }
      ]
    },
    {
      "cell_type": "code",
      "source": [
        "#4. getBondPrice_E\n",
        "def getBondPrice_E(face, couponRate, m, yc):\n",
        "    bondPrice = 0\n",
        "    df = 1\n",
        "    c = face * couponRate\n",
        "    for i in range(1, m+1):\n",
        "      df = 1/(1+yc[i-1])**i\n",
        "      if i != m:\n",
        "        bondPrice+=c*df\n",
        "      else:\n",
        "        bondPrice+=c*df+face*df\n",
        "    return(bondPrice)\n",
        "\n",
        "# Test values\n",
        "\n",
        "yc = [.010, .015, .020, .025, .030]\n",
        "face = 2000000\n",
        "couponRate = 0.04\n",
        "m=5\n",
        "\n",
        "getBondPrice_E(face, couponRate, m, yc)\n"
      ],
      "metadata": {
        "colab": {
          "base_uri": "https://localhost:8080/"
        },
        "id": "JLt1h_d9KYXB",
        "outputId": "1f3aec0b-cd4d-4811-8b5d-6f4c69dccb96"
      },
      "execution_count": null,
      "outputs": [
        {
          "output_type": "execute_result",
          "data": {
            "text/plain": [
              "2098948.9705506554"
            ]
          },
          "metadata": {},
          "execution_count": 4
        }
      ]
    },
    {
      "cell_type": "code",
      "source": [
        "#5. getBondPrice_Z\n",
        "def getBondPrice_Z(face, couponRate, times, yc):\n",
        "    bondPrice = 0\n",
        "    df = 0\n",
        "    c = face * couponRate\n",
        "    m = len(times)\n",
        "    for i in range(1, m+1):\n",
        "      df = 1/(1+yc[i-1])**times[i-1]\n",
        "      if i != m:\n",
        "        bondPrice+=c*df\n",
        "      else:\n",
        "        bondPrice+=c*df+face*df\n",
        "    return(bondPrice)\n",
        "\n",
        "# Test values\n",
        "\n",
        "yc = [.010, .015, .020, .025, .030]\n",
        "times=[1,1.5,3,4,7]\n",
        "face = 2000000\n",
        "couponRate = 0.04\n",
        "\n",
        "getBondPrice_Z(face, couponRate, times, yc)\n"
      ],
      "metadata": {
        "colab": {
          "base_uri": "https://localhost:8080/"
        },
        "id": "onyjy6rKKYUu",
        "outputId": "881d4201-95c6-4fcc-f111-345761cbef19"
      },
      "execution_count": null,
      "outputs": [
        {
          "output_type": "execute_result",
          "data": {
            "text/plain": [
              "1996533.2719139731"
            ]
          },
          "metadata": {},
          "execution_count": 5
        }
      ]
    },
    {
      "cell_type": "code",
      "source": [
        "#6. FizzBuzz\n",
        "# Have this code run for any start and finish values\n",
        "\n",
        "def FizzBuzz(start, finish):\n",
        "    outlist = []\n",
        "    for i in range(start,finish+1):\n",
        "      if i%3==0 and i%5==0:\n",
        "        outlist.append(\"fizzbuzz\")\n",
        "      elif i%5==0:\n",
        "        outlist.append(\"buzz\")\n",
        "      elif i%3==0:\n",
        "        outlist.append(\"fizz\")\n",
        "      else:\n",
        "        outlist.append(i)\n",
        "      start+=1\n",
        "    return(outlist)\n",
        "\n",
        "print(FizzBuzz(1,15))\n"
      ],
      "metadata": {
        "colab": {
          "base_uri": "https://localhost:8080/"
        },
        "id": "iq-d-ZxtKYSb",
        "outputId": "f77536e3-16d4-4c0c-9c84-09f0fc3c7961"
      },
      "execution_count": null,
      "outputs": [
        {
          "output_type": "stream",
          "name": "stdout",
          "text": [
            "[1, 2, 'fizz', 4, 'buzz', 'fizz', 7, 8, 'fizz', 'buzz', 11, 'fizz', 13, 14, 'fizzbuzz']\n"
          ]
        }
      ]
    },
    {
      "cell_type": "code",
      "source": [
        "#7. MatMult1\n",
        "def MatMult1(a,b):\n",
        "    len1=len(a)\n",
        "    len2=len(b)\n",
        "    value=0\n",
        "    for i in range(len1):\n",
        "      value+=a[i]*b[i]\n",
        "    return value\n",
        "\n",
        "# Test values\n",
        "\n",
        "a = (1, 2, 3)\n",
        "b = (1, 4, 7)\n",
        "\n",
        "MatMult1(a,b)\n"
      ],
      "metadata": {
        "colab": {
          "base_uri": "https://localhost:8080/"
        },
        "id": "3fJpVH7KKYQP",
        "outputId": "702d7d28-1e47-496f-a808-077535d1c108"
      },
      "execution_count": null,
      "outputs": [
        {
          "output_type": "execute_result",
          "data": {
            "text/plain": [
              "30"
            ]
          },
          "metadata": {},
          "execution_count": 7
        }
      ]
    },
    {
      "cell_type": "code",
      "source": [
        "#8. MatMult2\n",
        "def MatMult2(a,b):\n",
        "    len1=len(a)\n",
        "    len2=len(b)\n",
        "    value=[]\n",
        "    t=0\n",
        "    if len1!=len2:\n",
        "      print(\"wrong calculation\")\n",
        "    for i in range(len2):\n",
        "      for j in range(len1):\n",
        "        t+=a[j]*b[j][i]\n",
        "      value.append(t)\n",
        "      t=0\n",
        "    return value\n",
        "\n",
        "# Test values\n",
        "\n",
        "a = (1, 2, 3)\n",
        "b = (1, 2, 3),(4, 5, 6),(7, 8, 9)\n",
        "\n",
        "MatMult2(a,b)"
      ],
      "metadata": {
        "colab": {
          "base_uri": "https://localhost:8080/"
        },
        "id": "4bBfYqCcKROM",
        "outputId": "04fd93fd-c1b7-4b33-9e70-59e91aba7b6a"
      },
      "execution_count": null,
      "outputs": [
        {
          "output_type": "execute_result",
          "data": {
            "text/plain": [
              "[30, 36, 42]"
            ]
          },
          "metadata": {},
          "execution_count": 8
        }
      ]
    }
  ]
}