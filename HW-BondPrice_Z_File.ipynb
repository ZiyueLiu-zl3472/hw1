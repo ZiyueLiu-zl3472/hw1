{
  "nbformat": 4,
  "nbformat_minor": 0,
  "metadata": {
    "colab": {
      "provenance": [],
      "authorship_tag": "ABX9TyMbbB0jkamU8AsWgnSIR7GO",
      "include_colab_link": true
    },
    "kernelspec": {
      "name": "python3",
      "display_name": "Python 3"
    },
    "language_info": {
      "name": "python"
    }
  },
  "cells": [
    {
      "cell_type": "markdown",
      "metadata": {
        "id": "view-in-github",
        "colab_type": "text"
      },
      "source": [
        "<a href=\"https://colab.research.google.com/github/ZiyueLiu-zl3472/hw1/blob/main/BondPrice_Z_File.ipynb\" target=\"_parent\"><img src=\"https://colab.research.google.com/assets/colab-badge.svg\" alt=\"Open In Colab\"/></a>"
      ]
    },
    {
      "cell_type": "code",
      "execution_count": null,
      "metadata": {
        "id": "F_T58PZDnjfP"
      },
      "outputs": [],
      "source": [
        "def getBondPrice_Z(face, couponRate, times, yc):\n",
        "    bondPrice = 0\n",
        "    df = 0\n",
        "    c = face * couponRate\n",
        "    m = len(times)\n",
        "    for i in range(1, m+1):\n",
        "      df = 1/(1+yc[i-1])**times[i-1]\n",
        "      if i != m:\n",
        "        bondPrice+=c*df\n",
        "      else:\n",
        "        bondPrice+=c*df+face*df\n",
        "    return(bondPrice)\n",
        "\n",
        "# Test values\n",
        "\n",
        "yc = [.010, .015, .020, .025, .030]\n",
        "times=[1,1.5,3,4,7]\n",
        "face = 2000000\n",
        "couponRate = 0.04\n",
        "\n",
        "getBondPrice_Z(face, couponRate, times, yc)\n"
      ]
    }
  ]
}
