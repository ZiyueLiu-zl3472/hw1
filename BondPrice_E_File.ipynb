{
  "nbformat": 4,
  "nbformat_minor": 0,
  "metadata": {
    "colab": {
      "provenance": [],
      "authorship_tag": "ABX9TyNU8gjQHuVCmyw04rPP60jm",
      "include_colab_link": true
    },
    "kernelspec": {
      "name": "python3",
      "display_name": "Python 3"
    },
    "language_info": {
      "name": "python"
    }
  },
  "cells": [
    {
      "cell_type": "markdown",
      "metadata": {
        "id": "view-in-github",
        "colab_type": "text"
      },
      "source": [
        "<a href=\"https://colab.research.google.com/github/ZiyueLiu-zl3472/hw1/blob/main/BondPrice_E_File.ipynb\" target=\"_parent\"><img src=\"https://colab.research.google.com/assets/colab-badge.svg\" alt=\"Open In Colab\"/></a>"
      ]
    },
    {
      "cell_type": "code",
      "execution_count": 5,
      "metadata": {
        "colab": {
          "base_uri": "https://localhost:8080/"
        },
        "id": "RAnB7cPInNKl",
        "outputId": "c7d1cbcc-568f-4466-ee46-b4286ce63a79"
      },
      "outputs": [
        {
          "output_type": "execute_result",
          "data": {
            "text/plain": [
              "2098948.9705506554"
            ]
          },
          "metadata": {},
          "execution_count": 5
        }
      ],
      "source": [
        "def getBondPrice_E(face, couponRate, yc):\n",
        "    bondPrice = 0\n",
        "    df = 1\n",
        "    c = face * couponRate\n",
        "    bondPrice = sum(c / (1 + rate) ** (i + 1) for i, rate in enumerate (yc))\n",
        "    bondPrice += face / (1 + yc[-1]) ** 5\n",
        "\n",
        "    return(bondPrice)\n",
        "\n",
        "# Test values\n",
        "\n",
        "yc = [.010, .015, .020, .025, .030]\n",
        "face = 2000000\n",
        "couponRate = 0.04\n",
        "\n",
        "getBondPrice_E(face, couponRate, yc)\n"
      ]
    }
  ]
}