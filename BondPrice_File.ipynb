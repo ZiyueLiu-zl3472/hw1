{
  "nbformat": 4,
  "nbformat_minor": 0,
  "metadata": {
    "colab": {
      "provenance": [],
      "authorship_tag": "ABX9TyNLaWSpZPbDbT5T8ocRMk6+",
      "include_colab_link": true
    },
    "kernelspec": {
      "name": "python3",
      "display_name": "Python 3"
    },
    "language_info": {
      "name": "python"
    }
  },
  "cells": [
    {
      "cell_type": "markdown",
      "metadata": {
        "id": "view-in-github",
        "colab_type": "text"
      },
      "source": [
        "<a href=\"https://colab.research.google.com/github/ZiyueLiu-zl3472/hw1/blob/main/BondPrice_File.ipynb\" target=\"_parent\"><img src=\"https://colab.research.google.com/assets/colab-badge.svg\" alt=\"Open In Colab\"/></a>"
      ]
    },
    {
      "cell_type": "code",
      "execution_count": null,
      "metadata": {
        "id": "3cCP2ccmkRfa"
      },
      "outputs": [],
      "source": [
        "def getBondPrice(y, face, couponRate, m, ppy=1):\n",
        "    df0=1/(1+y/ppy)\n",
        "    dcf=0\n",
        "    df=1\n",
        "    cpn=couponRate*face/ppy\n",
        "    for i in range (1,m*ppy+1):\n",
        "      df*=df0\n",
        "      dcf+=df*cpn\n",
        "\n",
        "    BondPrice=dcf+face*df\n",
        "\n",
        "    return(BondPrice)\n",
        "\n",
        "# Test values\n",
        "\n",
        "y = 0.03\n",
        "face = 2000000\n",
        "couponRate = 0.04\n",
        "m = 10\n",
        "ppy = 1\n",
        "ppy = 2\n",
        "#<no ppy value passed>\n",
        "\n",
        "bond_price_ppy1 = getBondPrice(y, face, couponRate, m, ppy=1)\n",
        "bond_price_ppy2 = getBondPrice(y, face, couponRate, m, ppy=2)\n",
        "\n",
        "print(bond_price_ppy1)\n",
        "print(bond_price_ppy2)"
      ]
    }
  ]
}