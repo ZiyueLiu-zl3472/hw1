{
  "nbformat": 4,
  "nbformat_minor": 0,
  "metadata": {
    "colab": {
      "provenance": [],
      "authorship_tag": "ABX9TyM1vKkXdp5/3uGjDRSAeUHm",
      "include_colab_link": true
    },
    "kernelspec": {
      "name": "python3",
      "display_name": "Python 3"
    },
    "language_info": {
      "name": "python"
    }
  },
  "cells": [
    {
      "cell_type": "markdown",
      "metadata": {
        "id": "view-in-github",
        "colab_type": "text"
      },
      "source": [
        "<a href=\"https://colab.research.google.com/github/ZiyueLiu-zl3472/hw1/blob/main/BondDuration_File.ipynb\" target=\"_parent\"><img src=\"https://colab.research.google.com/assets/colab-badge.svg\" alt=\"Open In Colab\"/></a>"
      ]
    },
    {
      "cell_type": "code",
      "execution_count": null,
      "metadata": {
        "id": "mv2Acsmcm21l"
      },
      "outputs": [],
      "source": [
        "def getBondDuration(y, face, couponRate, m, ppy=1):\n",
        "  df0=1/(1+y/ppy)\n",
        "  df=1\n",
        "  sumPVCF=0\n",
        "  sumW=0\n",
        "  cpn=couponRate*face/ppy\n",
        "  for i in range (1,m+1):\n",
        "    df*=df0\n",
        "    pvcf=cpn*df\n",
        "    w=pvcf*i\n",
        "    sumPVCF+=pvcf\n",
        "    sumW+=w\n",
        "    print(1,df)\n",
        "\n",
        "  sumPVCF+=face*df\n",
        "  sumW+=face*df*m\n",
        "  BondDuration=sumW/sumPVCF\n",
        "\n",
        "  return(BondDuration)\n",
        "\n",
        "# Test values\n",
        "\n",
        "y = 0.03\n",
        "face = 2000000\n",
        "couponRate = 0.04\n",
        "m = 10\n",
        "ppy = 1\n",
        "\n",
        "getBondDuration(y, face, couponRate, m, ppy)"
      ]
    }
  ]
}
